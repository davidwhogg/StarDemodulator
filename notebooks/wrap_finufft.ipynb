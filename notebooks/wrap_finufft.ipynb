{
  "nbformat": 4,
  "nbformat_minor": 0,
  "metadata": {
    "colab": {
      "provenance": [],
      "collapsed_sections": [],
      "authorship_tag": "ABX9TyNccxJjB3U/WMIUgnFkwshA",
      "include_colab_link": true
    },
    "kernelspec": {
      "name": "python3",
      "display_name": "Python 3"
    },
    "language_info": {
      "name": "python"
    }
  },
  "cells": [
    {
      "cell_type": "markdown",
      "metadata": {
        "id": "view-in-github",
        "colab_type": "text"
      },
      "source": [
        "<a href=\"https://colab.research.google.com/github/davidwhogg/StarDemodulator/blob/main/notebooks/wrap_finufft.ipynb\" target=\"_parent\"><img src=\"https://colab.research.google.com/assets/colab-badge.svg\" alt=\"Open In Colab\"/></a>"
      ]
    },
    {
      "cell_type": "markdown",
      "source": [
        "# wrap `finufft` so it looks like `scipy.fftpack`\n",
        "\n",
        "## Author:\n",
        "- **David W. Hogg** *(NYU) (MPIA) (Flatiron)*\n",
        "\n",
        "## To-do items:\n",
        "- Make regularly sampled data for performing exact comparisons to the `scipy` FFT.\n",
        "- Rearrange outputs ordering and units to match `scipy`.\n",
        "- Remove dependency on dumb pickle file."
      ],
      "metadata": {
        "id": "AA9tj7iYjmFN"
      }
    },
    {
      "cell_type": "code",
      "source": [
        "!pip install finufft"
      ],
      "metadata": {
        "id": "bS_Lo5DIjA8a"
      },
      "execution_count": null,
      "outputs": []
    },
    {
      "cell_type": "code",
      "execution_count": null,
      "metadata": {
        "id": "pHz4YCHaisBh"
      },
      "outputs": [],
      "source": [
        "import numpy as np\n",
        "import scipy.sparse.linalg as sp\n",
        "from functools import partial\n",
        "from scipy.fftpack import fftfreq\n",
        "import finufft"
      ]
    },
    {
      "cell_type": "code",
      "source": [
        "FEPS, ATOL, BTOL = 1.e-6, 1.e-6, 1.e-6 # made up\n",
        "\n",
        "def nufft1d2_pinv(x, c, N):\n",
        "    \"\"\"\n",
        "    The pseudo-inverse of `nufft1d2()`.\n",
        "    \"\"\"\n",
        "    M = len(x)\n",
        "    f0 = finufft.nufft1d1(x, c, N, eps=FEPS)\n",
        "    R = partial(finufft.nufft1d2, x, eps=FEPS)\n",
        "    RT = partial(finufft.nufft1d1, x, n_modes=N, eps=FEPS)\n",
        "    RR = sp.LinearOperator((M, N), matvec=R, rmatvec=RT, dtype=complex)\n",
        "    res = sp.lsqr(RR, c, x0=f0, atol=ATOL, btol=BTOL)\n",
        "    print(\"nufft1d2_pinv(): completed in\", res[2], \"iterations\")\n",
        "    return res[0]"
      ],
      "metadata": {
        "id": "DpbtVgoXi9oj"
      },
      "execution_count": null,
      "outputs": []
    },
    {
      "cell_type": "code",
      "source": [
        "def _hogg_delta_omega(ts):\n",
        "    \"\"\"\n",
        "    ## Bugs / issues:\n",
        "    - Doesn't check that the input has the right units!\n",
        "    - Doesn't have a proper code header.\n",
        "    \"\"\"\n",
        "    Nt = len(ts)\n",
        "    assert ts.shape == (Nt, )\n",
        "    # check that `ts` is units of time.\n",
        "    # choose a sensible conversion of `ts` to dimensionless positions `xs`.\n",
        "    return 2. * np.pi * (Nt / (Nt + 1)) / (max(ts) - min(ts))\n",
        "\n",
        "def hogg_ft_1d(ts, ys, max_freq=np.Inf):\n",
        "    \"\"\"\n",
        "    ## Bugs / issues:\n",
        "    - This makes tons of decisions \"for\" the user.\n",
        "    - Not tested. Not even run!\n",
        "    - Output fs have really weird units, people.\n",
        "    - Doesn't have a proper code header.\n",
        "    - Doesn't rearrange the frequencies into `scipy.fftpack` format.\n",
        "    \"\"\"\n",
        "    Nt = len(ts)\n",
        "    assert ts.shape == ys.shape\n",
        "    # check that `ts` is units of time.\n",
        "    # choose a sensible conversion of `ts` to dimensionless positions `xs`.\n",
        "    median_t = np.nanmedian(ts)\n",
        "    Delta_omega = _hogg_delta_omega(ts)\n",
        "    xs = Delta_omega * (ts - median_t)\n",
        "    assert (max(xs) - min(xs)) < 2. * np.pi\n",
        "    # run `finufft` pseudo-inverse.\n",
        "    Nf = (Nt // 2) * 2 + 1 # user doesn't choose! We might want to change this.\n",
        "    omegas = Delta_omega * np.arange(-(Nf // 2), Nf // 2 + 0.5)\n",
        "    freqs = omegas / (2. * np.pi)\n",
        "    freqs = freqs[np.abs(freqs) < max_freq]\n",
        "    Nf = len(freqs)\n",
        "    fs = nufft1d2_pinv(xs, ys.astype(complex), Nf)\n",
        "    # convert output to frequency units.\n",
        "    assert freqs.shape == fs.shape\n",
        "    return freqs, fs\n",
        "\n",
        "def hogg_ift_1d(freqs, fs, ts):\n",
        "    \"\"\"\n",
        "    ## Bugs:\n",
        "    - No comment header\n",
        "    \"\"\"\n",
        "    Nf = len(freqs)\n",
        "    assert Nf % 2 == 1\n",
        "    assert freqs.shape == fs.shape\n",
        "    assert freqs.shape == (Nf, )\n",
        "    Delta_omega = _hogg_delta_omega(ts)\n",
        "    xs = Delta_omega * (ts - np.nanmedian(ts))\n",
        "    return finufft.nufft1d2(xs, fs)"
      ],
      "metadata": {
        "id": "0TWnfsXnkBkd"
      },
      "execution_count": null,
      "outputs": []
    },
    {
      "cell_type": "code",
      "source": [
        "import pickle\n",
        "with open(\"data.pkl\", \"rb\") as fd:\n",
        "    foo = pickle.load(fd).T\n",
        "print(foo.shape)"
      ],
      "metadata": {
        "id": "jXUQpR5sppLi"
      },
      "execution_count": null,
      "outputs": []
    },
    {
      "cell_type": "code",
      "source": [
        "import matplotlib.pyplot as plt\n",
        "ts, ys = foo[0], foo[7]\n",
        "plt.plot(ts, ys, \"k.\")"
      ],
      "metadata": {
        "id": "5mJYHQz5qLm9"
      },
      "execution_count": null,
      "outputs": []
    },
    {
      "cell_type": "code",
      "source": [
        "# See this `max_freq` input: If you don't set this, the ft is a complete basis,\n",
        "# and it does crazy things to match the data exactly.\n",
        "freqs, fs = hogg_ft_1d(ts, ys, max_freq=0.05)"
      ],
      "metadata": {
        "id": "WpetIuG5qcw1"
      },
      "execution_count": null,
      "outputs": []
    },
    {
      "cell_type": "code",
      "source": [
        "plt.axvline(1. / 100., color=\"g\", lw=0.5)\n",
        "plt.axhline(0., color='k', lw=0.5)\n",
        "plt.plot(freqs, np.abs(fs), \"k.\")\n",
        "plt.step(freqs, np.abs(fs), where=\"mid\", color=\"k\", lw=0.5)\n",
        "plt.plot(freqs, fs.real, \"b.\", alpha=0.25)\n",
        "plt.plot(freqs, fs.imag, \"r.\", alpha=0.25)\n",
        "plt.xlim(0., 0.05)\n",
        "foo = np.max(np.abs(fs))\n",
        "plt.ylim(-0.2 * foo, 1.2 * foo)"
      ],
      "metadata": {
        "id": "bLhl3QD2qzQW"
      },
      "execution_count": null,
      "outputs": []
    },
    {
      "cell_type": "code",
      "source": [
        "# This reconstructs the data from the ft.\n",
        "# The reconstruction is not perfect because the basis isn't complete.\n",
        "foo = hogg_ift_1d(freqs, fs, ts)\n",
        "plt.plot(ts, foo, \"k.\")"
      ],
      "metadata": {
        "id": "iStXzTRftSpi"
      },
      "execution_count": null,
      "outputs": []
    },
    {
      "cell_type": "code",
      "source": [
        "# This filters the data.\n",
        "# Note that it distorts heavily at the edges, because it has to make a periodic\n",
        "# model!\n",
        "fs_filtered = 1. * fs\n",
        "fs_filtered[freqs > 0.013] = 0.+0.j\n",
        "fs_filtered[freqs < 0.007] = 0.+0.j\n",
        "foo = hogg_ift_1d(freqs, fs_filtered, ts)\n",
        "plt.plot(ts, foo, \"k.\")"
      ],
      "metadata": {
        "id": "j9WUS74HOuUc"
      },
      "execution_count": null,
      "outputs": []
    },
    {
      "cell_type": "code",
      "source": [
        "fs_filtered = 1. * fs\n",
        "fs_filtered[freqs > 0.0205] = 0.+0.j\n",
        "fs_filtered[freqs < 0.0195] = 0.+0.j\n",
        "foo = hogg_ift_1d(freqs, fs_filtered, ts)\n",
        "plt.plot(ts, foo, \"k.\")"
      ],
      "metadata": {
        "id": "CLY9SRH2QoWI"
      },
      "execution_count": null,
      "outputs": []
    },
    {
      "cell_type": "code",
      "source": [],
      "metadata": {
        "id": "wHZ_PQapqlhy"
      },
      "execution_count": null,
      "outputs": []
    }
  ]
}